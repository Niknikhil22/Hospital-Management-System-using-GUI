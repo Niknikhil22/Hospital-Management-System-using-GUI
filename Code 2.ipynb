{
 "cells": [
  {
   "cell_type": "markdown",
   "metadata": {},
   "source": [
    "Importing Libraries"
   ]
  },
  {
   "cell_type": "code",
   "execution_count": 37,
   "metadata": {},
   "outputs": [],
   "source": [
    "import sqlite3\n",
    "import tkinter as tk\n",
    "from tkinter import messagebox"
   ]
  },
  {
   "cell_type": "markdown",
   "metadata": {},
   "source": [
    "Database Connection"
   ]
  },
  {
   "cell_type": "code",
   "execution_count": 38,
   "metadata": {},
   "outputs": [],
   "source": [
    "def init_db():\n",
    "    conn = sqlite3.connect(\"hospital.db\")\n",
    "    # Admin\n",
    "    cursor = conn.cursor()\n",
    "    cursor.execute(\"\"\"\n",
    "        CREATE TABLE IF NOT EXISTS admin (\n",
    "            username TEXT PRIMARY KEY,\n",
    "            password TEXT NOT NULL\n",
    "        )\n",
    "    \"\"\")\n",
    "    cursor.execute(\"INSERT OR IGNORE INTO admin (username, password) VALUES ('admin', 'admin123')\")\n",
    "    # Staff\n",
    "    cursor.execute(\"\"\"\n",
    "        CREATE TABLE IF NOT EXISTS staff (\n",
    "            staffid INTEGER PRIMARY KEY AUTOINCREMENT,\n",
    "            firstname TEXT,\n",
    "            surname TEXT,\n",
    "            designation TEXT\n",
    "        )\n",
    "    \"\"\")\n",
    "    # In Patient\n",
    "    cursor.execute(\"\"\"\n",
    "        CREATE TABLE IF NOT EXISTS doctor (\n",
    "            doctorid INTEGER PRIMARY KEY AUTOINCREMENT,\n",
    "            doctorname TEXT,\n",
    "            specialization TEXT\n",
    "        )\n",
    "    \"\"\")\n",
    "    # Out Patient\n",
    "    cursor.execute(\"\"\"\n",
    "        CREATE TABLE IF NOT EXISTS in_patient (\n",
    "            admissionID INTEGER PRIMARY KEY AUTOINCREMENT,\n",
    "            patientName TEXT,\n",
    "            gender TEXT,\n",
    "            admissionDate TEXT\n",
    "        )\n",
    "    \"\"\")\n",
    "    # Room Table\n",
    "    cursor.execute(\"\"\"\n",
    "        CREATE TABLE IF NOT EXISTS out_patient (\n",
    "            patientID INTEGER PRIMARY KEY AUTOINCREMENT,\n",
    "            patientName TEXT\n",
    "        )\n",
    "    \"\"\")\n",
    "    # In Patient Medical Table\n",
    "    cursor.execute(\"\"\"\n",
    "        CREATE TABLE IF NOT EXISTS room (\n",
    "            roomID INTEGER PRIMARY KEY AUTOINCREMENT,\n",
    "            roomNo TEXT,\n",
    "            roomCost REAL\n",
    "        )\n",
    "    \"\"\")\n",
    "    # Out Patient Medical Info Table\n",
    "    cursor.execute(\"\"\"\n",
    "        CREATE TABLE IF NOT EXISTS in_patient_medical (\n",
    "            inpatientMedID INTEGER PRIMARY KEY AUTOINCREMENT,\n",
    "            admissionID INTEGER,\n",
    "            medicineID INTEGER,\n",
    "            FOREIGN KEY(admissionID) REFERENCES in_patient(admissionID)\n",
    "        )\n",
    "    \"\"\")\n",
    "    # In Patient Service Table\n",
    "    cursor.execute(\"\"\"\n",
    "        CREATE TABLE IF NOT EXISTS out_patient_medical (\n",
    "            outpatientMedID INTEGER PRIMARY KEY AUTOINCREMENT,\n",
    "            patientID INTEGER,\n",
    "            medicineName TEXT,\n",
    "            FOREIGN KEY(patientID) REFERENCES out_patient(patientID)\n",
    "        )\n",
    "    \"\"\")\n",
    "    # In Patient Bill Table\n",
    "    cursor.execute(\"\"\"\n",
    "        CREATE TABLE IF NOT EXISTS in_patient_service (\n",
    "            serviceID INTEGER PRIMARY KEY AUTOINCREMENT,\n",
    "            admissionID INTEGER,\n",
    "            serviceName TEXT,\n",
    "            FOREIGN KEY(admissionID) REFERENCES in_patient(admissionID)\n",
    "        )\n",
    "    \"\"\")\n",
    "    # Out Patient Bill Table\n",
    "    cursor.execute(\"\"\"\n",
    "        CREATE TABLE IF NOT EXISTS in_patient_bill (\n",
    "            paymentID INTEGER PRIMARY KEY AUTOINCREMENT,\n",
    "            admissionID INTEGER,\n",
    "            total REAL,\n",
    "            FOREIGN KEY(admissionID) REFERENCES in_patient(admissionID)\n",
    "        )\n",
    "    \"\"\")\n",
    "    cursor.execute(\"\"\"\n",
    "        CREATE TABLE IF NOT EXISTS out_patient_bill (\n",
    "            paymentID INTEGER PRIMARY KEY AUTOINCREMENT,\n",
    "            patientID INTEGER,\n",
    "            total REAL,\n",
    "            FOREIGN KEY(patientID) REFERENCES out_patient(patientID)\n",
    "        )\n",
    "    \"\"\")\n",
    "    conn.commit()\n",
    "    conn.close()"
   ]
  },
  {
   "cell_type": "markdown",
   "metadata": {},
   "source": [
    "Admin Login Function"
   ]
  },
  {
   "cell_type": "code",
   "execution_count": 39,
   "metadata": {},
   "outputs": [],
   "source": [
    "def login():\n",
    "    username = user_entry.get()\n",
    "    password = pass_entry.get()\n",
    "    conn = sqlite3.connect(\"hospital.db\")\n",
    "    cursor = conn.cursor()\n",
    "    cursor.execute(\"SELECT * FROM admin WHERE username=? AND password=?\", (username, password))\n",
    "    result = cursor.fetchone()\n",
    "    conn.close()\n",
    "    if result:\n",
    "        root.destroy()\n",
    "        open_admin_page()\n",
    "    else:\n",
    "        messagebox.showerror(\"Login Failed\", \"Invalid Username or Password\")"
   ]
  },
  {
   "cell_type": "markdown",
   "metadata": {},
   "source": [
    "Login Window"
   ]
  },
  {
   "cell_type": "code",
   "execution_count": 40,
   "metadata": {},
   "outputs": [],
   "source": [
    "root = tk.Tk()\n",
    "root.title(\"Hospital Management Login\")\n",
    "root.geometry(\"600x500\")\n",
    "\n",
    "tk.Label(root, text=\"Username\").grid(row=1, column=1)\n",
    "user_entry = tk.Entry(root)\n",
    "user_entry.grid(row=1, column=2)\n",
    "\n",
    "tk.Label(root, text=\"Password\").grid(row=2, column=1)\n",
    "pass_entry = tk.Entry(root, show=\"*\")\n",
    "pass_entry.grid(row=2, column=2)\n",
    "\n",
    "tk.Button(root, text=\"Login\", command=login).grid(row=3, column=1, pady=10)\n",
    "\n",
    "init_db()"
   ]
  },
  {
   "cell_type": "markdown",
   "metadata": {},
   "source": [
    "Admin Page"
   ]
  },
  {
   "cell_type": "code",
   "execution_count": 41,
   "metadata": {},
   "outputs": [],
   "source": [
    "def open_admin_page():\n",
    "    admin_window = tk.Tk()\n",
    "    admin_window.title(\"Admin Panel\")\n",
    "    admin_window.geometry(\"600x500\")\n",
    "\n",
    "    \n",
    "    tk.Button(admin_window, text=\"Staff\", command=open_staff_page, width=15).grid(row=1, column=3, pady=10)\n",
    "    tk.Button(admin_window, text=\"Doctor\", command=open_doctor_page, width=15).grid(row=2, column=3, pady=10)\n",
    "\n",
    "    admin_window.mainloop()"
   ]
  },
  {
   "cell_type": "markdown",
   "metadata": {},
   "source": [
    "Staff Page"
   ]
  },
  {
   "cell_type": "code",
   "execution_count": 42,
   "metadata": {},
   "outputs": [],
   "source": [
    "def open_staff_page():\n",
    "    open_patient_page()\n",
    "\n",
    "def open_patient_page():\n",
    "    patient_window = tk.Tk()\n",
    "    patient_window.title(\"Patient Type\")\n",
    "    patient_window.geometry(\"600x500\")\n",
    "\n",
    "    tk.Label(patient_window, text = \"Staff Id\").grid(row=1, column=1)\n",
    "    entry = tk.Entry(patient_window).grid(row=1, column=2)\n",
    "    tk.Label(patient_window, text = \"First Name\").grid(row=2, column=1)\n",
    "    entry = tk.Entry(patient_window).grid(row=2, column=2)\n",
    "    tk.Label(patient_window, text = \"Sur Name\").grid(row=3, column=1)\n",
    "    entry = tk.Entry(patient_window).grid(row=3, column=2)\n",
    "    tk.Label(patient_window, text = \"Designation\").grid(row=4, column=1)\n",
    "    entry = tk.Entry(patient_window).grid(row=4, column=2)\n",
    "\n",
    "    tk.Button(patient_window, text=\"In Patient\", command=open_in_patient_page, width=15).grid(row=6, column= 3, pady=10)\n",
    "    tk.Button(patient_window, text=\"Out Patient\", command=open_out_patient_page, width=15).grid(row=7, column= 3, pady=10)\n",
    "    \n",
    "    patient_window.mainloop()"
   ]
  },
  {
   "cell_type": "markdown",
   "metadata": {},
   "source": [
    "Doctor Pag.e"
   ]
  },
  {
   "cell_type": "code",
   "execution_count": 43,
   "metadata": {},
   "outputs": [],
   "source": [
    "def open_doctor_page():\n",
    "    open_patient_page2()\n",
    "\n",
    "def open_patient_page2():\n",
    "    patient_window = tk.Tk()\n",
    "    patient_window.title(\"Doctor Type\")\n",
    "    patient_window.geometry(\"600x500\")\n",
    "\n",
    "    tk.Label(patient_window, text = \"Doctor Id\").grid(row=1, column=1)\n",
    "    entry = tk.Entry(patient_window).grid(row=1, column=2)\n",
    "    tk.Label(patient_window, text = \"Doctor Name\").grid(row=2, column=1)\n",
    "    entry = tk.Entry(patient_window).grid(row=2, column=2)\n",
    "    tk.Label(patient_window, text = \"Specialization\").grid(row=3, column=1)\n",
    "    entry = tk.Entry(patient_window).grid(row=3, column=2)\n",
    "    \n",
    "    tk.Button(patient_window, text=\"In Patient\", command=open_in_patient_page, width=15).grid(row=5, column= 3, pady=10)\n",
    "    tk.Button(patient_window, text=\"Out Patient\", command=open_out_patient_page, width=15).grid(row=6, column= 3, pady=10)\n",
    "    \n",
    "    patient_window.mainloop()"
   ]
  },
  {
   "cell_type": "markdown",
   "metadata": {},
   "source": [
    "In Patient Page"
   ]
  },
  {
   "cell_type": "code",
   "execution_count": 44,
   "metadata": {},
   "outputs": [],
   "source": [
    "def open_in_patient_page():\n",
    "    in_patient_window = tk.Tk()\n",
    "    in_patient_window.title(\"In Patient Services\")\n",
    "    in_patient_window.geometry(\"600x500\")\n",
    "\n",
    "    tk.Label(in_patient_window, text = \"Admission Id\").grid(row=1, column=1)\n",
    "    entry = tk.Entry(in_patient_window).grid(row=1, column=2)\n",
    "    tk.Label(in_patient_window, text = \"Admission Date\").grid(row=2, column=1)\n",
    "    entry = tk.Entry(in_patient_window).grid(row=2, column=2)\n",
    "    tk.Label(in_patient_window, text = \"Patient Name\").grid(row=3, column=1)\n",
    "    entry = tk.Entry(in_patient_window).grid(row=3, column=2)\n",
    "    tk.Label(in_patient_window, text = \"Gender\").grid(row=4, column=1)\n",
    "    entry = tk.Entry(in_patient_window).grid(row=4, column=2)\n",
    "    \n",
    "    tk.Button(in_patient_window, text=\"In Patient Medical\", command=open_in_patient_medical_page, width=20).grid(row=5, column=3, pady=5)\n",
    "    tk.Button(in_patient_window, text=\"In Patient Service\", command=open_in_patient_service_page, width=20).grid(row=6, column=3, pady=5)\n",
    "    tk.Button(in_patient_window, text=\"Room\", width=20).grid(row=6, column=3, pady=5)\n",
    "    \n",
    "    in_patient_window.mainloop()"
   ]
  },
  {
   "cell_type": "markdown",
   "metadata": {},
   "source": [
    "Out Patient Page"
   ]
  },
  {
   "cell_type": "code",
   "execution_count": 45,
   "metadata": {},
   "outputs": [],
   "source": [
    "def open_out_patient_page():\n",
    "    out_patient_window = tk.Tk()\n",
    "    out_patient_window.title(\"Out Patient Services\")\n",
    "    out_patient_window.geometry(\"600x500\")\n",
    "    \n",
    "    tk.Label(out_patient_window, text = \"Patient Name\").grid(row=1, column=1)\n",
    "    entry = tk.Entry(out_patient_window).grid(row=1, column=2)\n",
    "    tk.Label(out_patient_window, text = \"Patient Id\").grid(row=2, column=1)\n",
    "    entry = tk.Entry(out_patient_window).grid(row=2, column=2)\n",
    "    tk.Label(out_patient_window, text = \"Doctor Name\").grid(row=3, column=1)\n",
    "    entry = tk.Entry(out_patient_window).grid(row=3, column=2)\n",
    "\n",
    "    tk.Button(out_patient_window, text=\"Out Patient Medical Info\", width=25).grid(row=5, column=3, pady=5)\n",
    "    tk.Button(out_patient_window, text=\"Out Patient Bill\", width=25).grid(row=6, column=3, pady=5)\n",
    "    \n",
    "    out_patient_window.mainloop()"
   ]
  },
  {
   "cell_type": "markdown",
   "metadata": {},
   "source": [
    "In Patient Service Page"
   ]
  },
  {
   "cell_type": "code",
   "execution_count": 46,
   "metadata": {},
   "outputs": [],
   "source": [
    "def open_in_patient_service_page():\n",
    "    service_window = tk.Tk()\n",
    "    service_window.title(\"In Patient Service\")\n",
    "    service_window.geometry(\"600x500\")\n",
    "    \n",
    "    tk.Label(service_window, text = \"Admission Id\").grid(row=1, column=1)\n",
    "    entry = tk.Entry(service_window).grid(row=1, column=2)\n",
    "    tk.Label(service_window, text = \"Service Name\").grid(row=2, column=1)\n",
    "    entry = tk.Entry(service_window).grid(row=2, column=2)\n",
    "\n",
    "    tk.Button(service_window, text=\"In Patient Bill\", width=20).grid(row=4, column=3, pady=5)\n",
    "    \n",
    "    service_window.mainloop()"
   ]
  },
  {
   "cell_type": "markdown",
   "metadata": {},
   "source": [
    "In Patient Medical Page"
   ]
  },
  {
   "cell_type": "code",
   "execution_count": 47,
   "metadata": {},
   "outputs": [],
   "source": [
    "def open_in_patient_medical_page():\n",
    "    service_window = tk.Tk()\n",
    "    service_window.title(\"In Patient Medical Service\")\n",
    "    service_window.geometry(\"600x500\")\n",
    "    \n",
    "    tk.Label(service_window, text = \"Admission Id\").grid(row=1, column=1)\n",
    "    entry = tk.Entry(service_window).grid(row=1, column=2)\n",
    "    tk.Label(service_window, text = \"Medicine Id\").grid(row=2, column=1)\n",
    "    entry = tk.Entry(service_window).grid(row=2, column=2)\n",
    "    tk.Label(service_window, text = \"In Patient Med Id\").grid(row=3, column=1)\n",
    "    entry = tk.Entry(service_window).grid(row=3, column=2)\n",
    "\n",
    "    tk.Button(service_window, text=\"In Patient Bill\", width=20).grid(row=5, column=3, pady=5)\n",
    "    \n",
    "    service_window.mainloop()"
   ]
  },
  {
   "cell_type": "markdown",
   "metadata": {},
   "source": [
    "Mainloop Run"
   ]
  },
  {
   "cell_type": "code",
   "execution_count": 48,
   "metadata": {},
   "outputs": [],
   "source": [
    "root.mainloop()"
   ]
  }
 ],
 "metadata": {
  "kernelspec": {
   "display_name": "Python 3",
   "language": "python",
   "name": "python3"
  },
  "language_info": {
   "codemirror_mode": {
    "name": "ipython",
    "version": 3
   },
   "file_extension": ".py",
   "mimetype": "text/x-python",
   "name": "python",
   "nbconvert_exporter": "python",
   "pygments_lexer": "ipython3",
   "version": "3.13.1"
  }
 },
 "nbformat": 4,
 "nbformat_minor": 2
}
