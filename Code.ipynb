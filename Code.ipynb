{
 "cells": [
  {
   "cell_type": "markdown",
   "metadata": {},
   "source": [
    "Database Connection"
   ]
  },
  {
   "cell_type": "markdown",
   "metadata": {},
   "source": [
    "Importing Libraries"
   ]
  },
  {
   "cell_type": "code",
   "execution_count": 1,
   "metadata": {},
   "outputs": [],
   "source": [
    "import sqlite3"
   ]
  },
  {
   "cell_type": "code",
   "execution_count": 2,
   "metadata": {},
   "outputs": [],
   "source": [
    "def connect_db():\n",
    "    conn = sqlite3.connect('hospital_management.db')\n",
    "    c = conn.cursor()\n",
    "    c.execute('''CREATE TABLE IF NOT EXISTS patients\n",
    "                 (id INTEGER PRIMARY KEY AUTOINCREMENT,\n",
    "                  name TEXT,\n",
    "                  age INTEGER,\n",
    "                  gender TEXT,\n",
    "                  issue TEXT)''')\n",
    "    c.execute('''CREATE TABLE IF NOT EXISTS doctors\n",
    "                 (name TEXT,\n",
    "                  specialization TEXT)''')\n",
    "    c.execute('''CREATE TABLE IF NOT EXISTS appointments\n",
    "                 (id INTEGER PRIMARY KEY AUTOINCREMENT,\n",
    "                  patient_id INTEGER,\n",
    "                  appointment_date TEXT)''')\n",
    "    conn.commit()\n",
    "    conn.close()\n",
    "\n",
    "connect_db()"
   ]
  },
  {
   "cell_type": "markdown",
   "metadata": {},
   "source": [
    "Patient Function"
   ]
  },
  {
   "cell_type": "code",
   "execution_count": 3,
   "metadata": {},
   "outputs": [],
   "source": [
    "def add_patient(name, age, gender, issue):\n",
    "    conn = sqlite3.connect('hospital_management.db')\n",
    "    c = conn.cursor()\n",
    "    c.execute(\"INSERT INTO patients (name, age, gender, issue) VALUES (?, ?, ?, ?)\",\n",
    "              (name, age, gender, issue))\n",
    "    conn.commit()\n",
    "    conn.close()"
   ]
  },
  {
   "cell_type": "markdown",
   "metadata": {},
   "source": [
    "Doctor Function"
   ]
  },
  {
   "cell_type": "code",
   "execution_count": 4,
   "metadata": {},
   "outputs": [],
   "source": [
    "def add_doctor(name, specialization, availability):\n",
    "    conn = sqlite3.connect('hospital_management.db')\n",
    "    c = conn.cursor()\n",
    "    c.execute(\"INSERT INTO doctors (name, specialization, availability) VALUES (?, ?, ?)\",\n",
    "              (name, specialization, availability))\n",
    "    conn.commit()\n",
    "    conn.close()"
   ]
  },
  {
   "cell_type": "markdown",
   "metadata": {},
   "source": [
    "Appointment Function"
   ]
  },
  {
   "cell_type": "code",
   "execution_count": 5,
   "metadata": {},
   "outputs": [],
   "source": [
    "def book_appointment(patient_id, doctor_id, appointment_time):\n",
    "    conn = sqlite3.connect('hospital_management.db')\n",
    "    c = conn.cursor()\n",
    "    c.execute(\"INSERT INTO appointments (patient_id, doctor_id, appointment_time) VALUES (?, ?, ?)\",\n",
    "              (patient_id, doctor_id, appointment_time))\n",
    "    conn.commit()\n",
    "    conn.close()"
   ]
  },
  {
   "cell_type": "markdown",
   "metadata": {},
   "source": [
    "All Patients Function"
   ]
  },
  {
   "cell_type": "code",
   "execution_count": 6,
   "metadata": {},
   "outputs": [],
   "source": [
    "def view_patients():\n",
    "    conn = sqlite3.connect('hospital_management.db')\n",
    "    c = conn.cursor()\n",
    "    c.execute(\"SELECT * FROM patients\")\n",
    "    rows = c.fetchall()\n",
    "    conn.close()\n",
    "    return rows"
   ]
  },
  {
   "cell_type": "markdown",
   "metadata": {},
   "source": [
    "All Doctors Function"
   ]
  },
  {
   "cell_type": "code",
   "execution_count": 7,
   "metadata": {},
   "outputs": [],
   "source": [
    "def view_doctors():\n",
    "    conn = sqlite3.connect('hospital_management.db')\n",
    "    c = conn.cursor()\n",
    "    c.execute(\"SELECT * FROM doctors\")\n",
    "    rows = c.fetchall()\n",
    "    conn.close()\n",
    "    return rows"
   ]
  },
  {
   "cell_type": "markdown",
   "metadata": {},
   "source": [
    "GUI Design using Tkinter"
   ]
  },
  {
   "cell_type": "markdown",
   "metadata": {},
   "source": [
    "Importing Libraries"
   ]
  },
  {
   "cell_type": "code",
   "execution_count": 8,
   "metadata": {},
   "outputs": [],
   "source": [
    "from tkinter import *\n",
    "from tkinter import messagebox"
   ]
  },
  {
   "cell_type": "markdown",
   "metadata": {},
   "source": [
    "Main Windows"
   ]
  },
  {
   "cell_type": "code",
   "execution_count": 9,
   "metadata": {},
   "outputs": [
    {
     "data": {
      "text/plain": [
       "''"
      ]
     },
     "execution_count": 9,
     "metadata": {},
     "output_type": "execute_result"
    }
   ],
   "source": [
    "root = Tk()\n",
    "root.title(\"Hospital Management System\")\n",
    "root.geometry(\"900x600\")"
   ]
  },
  {
   "cell_type": "markdown",
   "metadata": {},
   "source": [
    "Add All info to GUI"
   ]
  },
  {
   "cell_type": "code",
   "execution_count": 10,
   "metadata": {},
   "outputs": [],
   "source": [
    "def patient_details_gui():\n",
    "    name = name.get()\n",
    "    age = age.get()\n",
    "    gender = gender.get()\n",
    "    issue = issue.get()\n",
    "    patient_id = patient_id.get()\n",
    "    appointment_time = appointment_time.get()\n",
    "    doctor_name = doctor_name.get()\n",
    "    specialization = specialization.get()\n",
    "    \n",
    "\n",
    "    if name and age and gender and issue and patient_id and appointment_time and doctor_name and specialization:\n",
    "        add_patient(name, int(age), gender, issue, int(patient_id), appointment_time, doctor_name, specialization)\n",
    "        messagebox.showinfo(\"Success\", \"Details Added!\")\n",
    "    else:\n",
    "        messagebox.showerror(\"Error\", \"Please fill in all the fields!\")"
   ]
  },
  {
   "cell_type": "markdown",
   "metadata": {},
   "source": [
    "Add Hospital Name"
   ]
  },
  {
   "cell_type": "code",
   "execution_count": 11,
   "metadata": {},
   "outputs": [],
   "source": [
    "Label(root, text=\"Nikhil's Hospital\", font=(\"Times New Romen\", 40, \"bold\")).grid(row=1, column=3, padx=20, pady=10)"
   ]
  },
  {
   "cell_type": "markdown",
   "metadata": {},
   "source": [
    "Adding Patients"
   ]
  },
  {
   "cell_type": "code",
   "execution_count": 12,
   "metadata": {},
   "outputs": [],
   "source": [
    "Label(root, text=\"Patient Name -\", font=(\"Courier\", 25)).grid(row=3, column=0, padx=20, pady=10)\n",
    "name_entry = Entry(root, font=(\"Courier\", 20))\n",
    "name_entry.grid(row=3, column=1)\n",
    "\n",
    "Label(root, text=\"Age -\", font=(\"Courier\", 25)).grid(row=4, column=0, padx=20, pady=10)\n",
    "age_entry = Entry(root, font=(\"Courier\", 20))\n",
    "age_entry.grid(row=4, column=1)\n",
    "\n",
    "Label(root, text=\"Gender -\", font=(\"Courier\", 25)).grid(row=5, column=0, padx=20, pady=10)\n",
    "gender_entry = Entry(root, font=(\"Courier\", 20))\n",
    "gender_entry.grid(row=5, column=1)\n",
    "\n",
    "Label(root, text=\"Health Issue -\", font=(\"Courier\", 25)).grid(row=6, column=0, padx=20, pady=10)\n",
    "issue_entry = Entry(root, font=(\"Courier\", 20))\n",
    "issue_entry.grid(row=6, column=1)"
   ]
  },
  {
   "cell_type": "markdown",
   "metadata": {},
   "source": [
    "Adding Appointments"
   ]
  },
  {
   "cell_type": "code",
   "execution_count": 13,
   "metadata": {},
   "outputs": [],
   "source": [
    "Label(root, text=\"Patient Id -\", font=(\"Courier\", 25)).grid(row=2, column=0, padx=20, pady=10)\n",
    "name_entry = Entry(root, font=(\"Courier\", 20))\n",
    "name_entry.grid(row=2, column=1)\n",
    "\n",
    "Label(root, text=\"Appointment Date -\", font=(\"Courier\", 25)).grid(row=7, column=0, padx=20, pady=10)\n",
    "gender_entry = Entry(root, font=(\"Courier\", 20))\n",
    "gender_entry.grid(row=7, column=1)"
   ]
  },
  {
   "cell_type": "markdown",
   "metadata": {},
   "source": [
    "Adding Doctor Info"
   ]
  },
  {
   "cell_type": "code",
   "execution_count": 14,
   "metadata": {},
   "outputs": [],
   "source": [
    "Label(root, text=\"Doctor Name -\", font=(\"Courier\", 25)).grid(row=8, column=0, padx=20, pady=10)\n",
    "name_entry = Entry(root, font=(\"Courier\", 20))\n",
    "name_entry.grid(row=8, column=1)\n",
    "\n",
    "Label(root, text=\"Doctor's Specialization -\", font=(\"Courier\", 25)).grid(row=9, column=0, padx=20, pady=10)\n",
    "age_entry = Entry(root, font=(\"Courier\", 20))\n",
    "age_entry.grid(row=9, column=1)\n",
    "\n",
    "Button(root, text=\"Add Patient Details\", command=(patient_details_gui), font=(\"Times New Romen\", 18, \"bold\")).grid(row=10, column=1, columnspan=2, pady=20)"
   ]
  },
  {
   "cell_type": "markdown",
   "metadata": {},
   "source": [
    "Add OPD Details"
   ]
  },
  {
   "cell_type": "code",
   "execution_count": 15,
   "metadata": {},
   "outputs": [],
   "source": [
    "Label(root, text=\"OPD Details\", font=(\"Georgia\", 18, \"bold\")).grid(row=2, column=3)\n",
    "\n",
    "entry = Entry(root, textvariable=StringVar(value=\"Timings - 9am to 5pm\"), font=(\"Helvetica\", 15))\n",
    "entry.grid(row=3, column=3)\n",
    "entry = Entry(root, textvariable=StringVar(value=\"User-Friendly System\"), font=(\"Helvetica\", 15))\n",
    "entry.grid(row=4, column=3)\n",
    "entry = Entry(root, textvariable=StringVar(value=\"E-Prescription\"), font=(\"Helvetica\", 15))\n",
    "entry.grid(row=5, column=3)\n",
    "entry = Entry(root, textvariable=StringVar(value=\"Medical Certificate\"), font=(\"Helvetica\", 15))\n",
    "entry.grid(row=6, column=3)\n",
    "entry = Entry(root, textvariable=StringVar(value=\"Pharmacy Billing\"), font=(\"Helvetica\", 15))\n",
    "entry.grid(row=7, column=3)\n",
    "entry = Entry(root, textvariable=StringVar(value=\"Add Reminders\"), font=(\"Helvetica\", 15))\n",
    "entry.grid(row=8, column=3)\n",
    "entry = Entry(root, textvariable=StringVar(value=\"OPD to IPD Transfer\"), font=(\"Helvetica\", 15))\n",
    "entry.grid(row=9, column=3)\n",
    "entry = Entry(root, textvariable=StringVar(value=\"Paperless Records\"), font=(\"Helvetica\", 15))\n",
    "entry.grid(row=10, column=3)"
   ]
  },
  {
   "cell_type": "markdown",
   "metadata": {},
   "source": [
    "Add Doctor Details"
   ]
  },
  {
   "cell_type": "code",
   "execution_count": 16,
   "metadata": {},
   "outputs": [],
   "source": [
    "Label(root, text=\"Doctor Details\", font=(\"Georgia\", 18, \"bold\")).grid(row=2, column=4)\n",
    "\n",
    "entry = Entry(root, textvariable=StringVar(value=\"Dr. Vandana Sawhney\"), font=(\"Helvetica\", 15))\n",
    "entry.grid(row=3, column=4)\n",
    "entry = Entry(root, textvariable=StringVar(value=\"Dr. Nikhil Sawhney\"), font=(\"Helvetica\", 15))\n",
    "entry.grid(row=4, column=4)\n",
    "entry = Entry(root, textvariable=StringVar(value=\"Dr. Ritu Sawhney\"), font=(\"Helvetica\", 15))\n",
    "entry.grid(row=5, column=4)\n",
    "entry = Entry(root, textvariable=StringVar(value=\"Dr. Sudhir Sawhney\"), font=(\"Helvetica\", 15))\n",
    "entry.grid(row=6, column=4)\n",
    "entry = Entry(root, textvariable=StringVar(value=\"Dr. Sanjeev Sawhney\"), font=(\"Helvetica\", 15))\n",
    "entry.grid(row=7, column=4)\n",
    "entry = Entry(root, textvariable=StringVar(value=\"Dr. Meow Meow\"), font=(\"Helvetica\", 15))\n",
    "entry.grid(row=8, column=4)\n",
    "entry = Entry(root, textvariable=StringVar(value=\"Dr. Ankit\"), font=(\"Helvetica\", 15))\n",
    "entry.grid(row=9, column=4)\n",
    "entry = Entry(root, textvariable=StringVar(value=\"Dr. Arvind\"), font=(\"Helvetica\", 15))\n",
    "entry.grid(row=10, column=4)"
   ]
  },
  {
   "cell_type": "markdown",
   "metadata": {},
   "source": [
    "Doctor Speciality"
   ]
  },
  {
   "cell_type": "code",
   "execution_count": 17,
   "metadata": {},
   "outputs": [],
   "source": [
    "Label(root, text=\"Doctor Speciality\", font=(\"Georgia\", 18, \"bold\")).grid(row=2, column=5)\n",
    "\n",
    "entry = Entry(root, textvariable=StringVar(value=\"Neuro-Surgery\"), font=(\"Helvetica\", 15))\n",
    "entry.grid(row=3, column=5)\n",
    "entry = Entry(root, textvariable=StringVar(value=\"Medicine\"), font=(\"Helvetica\", 15))\n",
    "entry.grid(row=4, column=5)\n",
    "entry = Entry(root, textvariable=StringVar(value=\"Gynecologist\"), font=(\"Helvetica\", 15))\n",
    "entry.grid(row=5, column=5)\n",
    "entry = Entry(root, textvariable=StringVar(value=\"Cardiologist\"), font=(\"Helvetica\", 15))\n",
    "entry.grid(row=6, column=5)\n",
    "entry = Entry(root, textvariable=StringVar(value=\"Plastic Surgeon\"), font=(\"Helvetica\", 15))\n",
    "entry.grid(row=7, column=5)\n",
    "entry = Entry(root, textvariable=StringVar(value=\"Phychiatry\"), font=(\"Helvetica\", 15))\n",
    "entry.grid(row=8, column=5)\n",
    "entry = Entry(root, textvariable=StringVar(value=\"Anaesthesiologist\"), font=(\"Helvetica\", 15))\n",
    "entry.grid(row=9, column=5)\n",
    "entry = Entry(root, textvariable=StringVar(value=\"Anatomy\"), font=(\"Helvetica\", 15))\n",
    "entry.grid(row=10, column=5)"
   ]
  },
  {
   "cell_type": "markdown",
   "metadata": {},
   "source": [
    "Mainloop Run"
   ]
  },
  {
   "cell_type": "code",
   "execution_count": 18,
   "metadata": {},
   "outputs": [],
   "source": [
    "root.mainloop()"
   ]
  }
 ],
 "metadata": {
  "kernelspec": {
   "display_name": "Python 3",
   "language": "python",
   "name": "python3"
  },
  "language_info": {
   "codemirror_mode": {
    "name": "ipython",
    "version": 3
   },
   "file_extension": ".py",
   "mimetype": "text/x-python",
   "name": "python",
   "nbconvert_exporter": "python",
   "pygments_lexer": "ipython3",
   "version": "3.13.1"
  }
 },
 "nbformat": 4,
 "nbformat_minor": 2
}
